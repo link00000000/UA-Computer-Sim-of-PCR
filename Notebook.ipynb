{
 "metadata": {
  "language_info": {
   "codemirror_mode": {
    "name": "ipython",
    "version": 3
   },
   "file_extension": ".py",
   "mimetype": "text/x-python",
   "name": "python",
   "nbconvert_exporter": "python",
   "pygments_lexer": "ipython3",
   "version": "3.8.5-final"
  },
  "orig_nbformat": 2,
  "kernelspec": {
   "name": "python_defaultSpec_1600800782536",
   "display_name": "Python 3.8.5 64-bit ('3.8.5': pyenv)"
  }
 },
 "nbformat": 4,
 "nbformat_minor": 2,
 "cells": [
  {
   "cell_type": "code",
   "execution_count": 8,
   "metadata": {
    "tags": []
   },
   "outputs": [
    {
     "output_type": "stream",
     "name": "stdout",
     "text": "Completed cycle 0 in 0.0 seconds: 2 sequences\nCompleted cycle 1 in 0.0 seconds: 4 sequences\nCompleted cycle 2 in 0.0 seconds: 8 sequences\nCompleted cycle 3 in 0.0 seconds: 16 sequences\nCompleted cycle 4 in 0.0 seconds: 32 sequences\nCompleted cycle 5 in 0.0 seconds: 64 sequences\nCompleted cycle 6 in 0.0 seconds: 128 sequences\nCompleted cycle 7 in 0.01 seconds: 256 sequences\nCompleted cycle 8 in 0.01 seconds: 512 sequences\nCompleted cycle 9 in 0.02 seconds: 768 sequences\nCompleted cycle 10 in 0.04 seconds: 1280 sequences\nCompleted cycle 11 in 0.16 seconds: 2304 sequences\nCompleted cycle 12 in 0.14 seconds: 4352 sequences\nCompleted cycle 13 in 0.29 seconds: 8448 sequences\nCompleted cycle 14 in 0.54 seconds: 16640 sequences\nCompleted cycle 15 in 1.16 seconds: 33024 sequences\nCompleted cycle 16 in 2.45 seconds: 65792 sequences\nCompleted cycle 17 in 4.88 seconds: 131328 sequences\nCompleted cycle 18 in 8.58 seconds: 262400 sequences\nCompleted cycle 19 in 10.14 seconds: 524544 sequences\n"
    }
   ],
   "source": [
    "from GenBank import FASTA, Sequence\n",
    "from PCR import PCR\n",
    "\n",
    "genome = FASTA('./data/Wuhan-Hu-1_complete_genome.fasta')\n",
    "\n",
    "# Indices from GenBank for M gene\n",
    "M_gene = genome.sequence.slice(26523, 27191)\n",
    "\n",
    "# Creates tuple RNA/cDNA tuple\n",
    "paired_sequence = (M_gene, M_gene.compliment())\n",
    "\n",
    "# Primer sequences, primer pair 3 from:\n",
    "# https://www.ncbi.nlm.nih.gov/tools/primer-blast/primertool.cgi?ctg_time=1600372805&job_key=iIJXWm09YJVHq3qud85enA3VT64gxlSzIQ&CheckStatus=Check\n",
    "primers = (Sequence('GCTTGTTTTGTGCTTGCTGC'),\n",
    "            Sequence('GGAGTGGCACGTTGAGAAGA'))\n",
    "\n",
    "# Other PCR parameters\n",
    "num_cycles = 20\n",
    "fall_off_noise = 50\n",
    "\n",
    "# Begin PCR\n",
    "results = PCR(paired_sequence, primers, num_cycles=num_cycles,\n",
    "                fall_off_noise=fall_off_noise)"
   ]
  },
  {
   "cell_type": "code",
   "execution_count": 11,
   "metadata": {
    "tags": []
   },
   "outputs": [
    {
     "output_type": "stream",
     "name": "stdout",
     "text": "178.00488885047184\n"
    }
   ],
   "source": [
    "from PCR import denature\n",
    "\n",
    "def Average(lst):\n",
    "    return sum(lst) / len(lst)\n",
    "\n",
    "average_length = Average([len(x.bases) for x in denature(results)])\n",
    "print(average_length)"
   ]
  },
  {
   "cell_type": "code",
   "execution_count": null,
   "metadata": {},
   "outputs": [],
   "source": []
  }
 ]
}